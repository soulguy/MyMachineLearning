{
 "cells": [
  {
   "cell_type": "code",
   "execution_count": 39,
   "metadata": {},
   "outputs": [
    {
     "name": "stdout",
     "output_type": "stream",
     "text": [
      "序号  \t价格      \t产品信息            \n"
     ]
    }
   ],
   "source": [
    "import requests\n",
    "import re\n",
    "import time\n",
    " \n",
    "def getHTMLText(url):\n",
    "    try:\n",
    "        r = requests.get(url, timeout = 30)#设定超时时间\n",
    "        r.raise_for_status()\n",
    "        r.encoding = r.apparent_encoding\n",
    "        return r.text\n",
    "    except:\n",
    "        return print(\"解析网页失败\")\n",
    "def parsePage(li, html):\n",
    "    try:\n",
    "        counts = re.findall(r'\\\"view_price\\\"\\:\\\"[\\d\\.]*\\\"',html)#正则获取价格\n",
    "        names = re.findall(r'\\\"raw_title\\\"\\:\\\".*?\\\"',html)#正则获取名字\n",
    "        for i in range(len(counts)):\n",
    "            price = eval(counts[i].split(':')[1])#以:分割，获取价格，同时删除引号等符号\n",
    "            title = eval(names[i].split(':')[1])\n",
    "            li.append([price, title])\n",
    "    except:\n",
    "        print(\"爬取失败\")\n",
    " \n",
    " \n",
    "def printGoodList(lis):\n",
    "    tplt = \"{:4}\\t{:8}\\t{:16}\"\n",
    "    print(tplt.format(\"序号\",\"价格\",\"产品信息\"))\n",
    "    num = 1\n",
    "    for g in lis:\n",
    "        num = num + 1\n",
    "        print(tplt.format(num, g[0], g[1]))\n",
    "    \n",
    "\n",
    "    \n",
    "if __name__ == '__main__':\n",
    "    goods = \"口红\"\n",
    "    depth = 3\n",
    "    start_url = 'http://s.taobao.com/search?q=' + goods\n",
    "    list = []\n",
    "    for i in range(depth):\n",
    "        try:\n",
    "            url = start_url + '&s=' + str(44*i)\n",
    "            html = getHTMLText(url)\n",
    "            parsePage(list,html)\n",
    "        except:\n",
    "            continue\n",
    "    printGoodList(list)"
   ]
  },
  {
   "cell_type": "code",
   "execution_count": null,
   "metadata": {},
   "outputs": [],
   "source": []
  },
  {
   "cell_type": "code",
   "execution_count": null,
   "metadata": {},
   "outputs": [],
   "source": []
  }
 ],
 "metadata": {
  "kernelspec": {
   "display_name": "Python (base)",
   "language": "python",
   "name": "base"
  },
  "language_info": {
   "codemirror_mode": {
    "name": "ipython",
    "version": 3
   },
   "file_extension": ".py",
   "mimetype": "text/x-python",
   "name": "python",
   "nbconvert_exporter": "python",
   "pygments_lexer": "ipython3",
   "version": "3.6.4"
  }
 },
 "nbformat": 4,
 "nbformat_minor": 2
}
