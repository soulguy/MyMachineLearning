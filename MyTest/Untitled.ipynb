{
 "cells": [
  {
   "cell_type": "code",
   "execution_count": 20,
   "metadata": {},
   "outputs": [
    {
     "name": "stdout",
     "output_type": "stream",
     "text": [
      "x1:\n",
      " [4.17022005e-01 7.20324493e-01 1.14374817e-04 3.02332573e-01\n",
      " 1.46755891e-01 9.23385948e-02 1.86260211e-01 3.45560727e-01\n",
      " 3.96767474e-01 5.38816734e-01 4.19194514e-01 6.85219500e-01\n",
      " 2.04452250e-01 8.78117436e-01 2.73875932e-02 6.70467510e-01\n",
      " 4.17304802e-01 5.58689828e-01 1.40386939e-01 1.98101489e-01]\n",
      "x2:\n",
      " [[ 1.13376944 -1.09989127]\n",
      " [-0.17242821 -0.87785842]\n",
      " [ 0.04221375  0.58281521]\n",
      " [-1.10061918  1.14472371]\n",
      " [ 0.90159072  0.50249434]\n",
      " [ 0.90085595 -0.68372786]\n",
      " [-0.12289023 -0.93576943]\n",
      " [-0.26788808  0.53035547]\n",
      " [-0.69166075 -0.39675353]\n",
      " [-0.6871727  -0.84520564]\n",
      " [-0.67124613 -0.0126646 ]\n",
      " [-1.11731035  0.2344157 ]\n",
      " [ 1.65980218  0.74204416]\n",
      " [-0.19183555 -0.88762896]\n",
      " [-0.74715829  1.6924546 ]\n",
      " [ 0.05080775 -0.63699565]\n",
      " [ 0.19091548  2.10025514]\n",
      " [ 0.12015895  0.61720311]\n",
      " [ 0.30017032 -0.35224985]\n",
      " [-1.1425182  -0.34934272]]\n",
      "x3:\n",
      " [69 58 83 97 14 11 24 82  8 25]\n"
     ]
    }
   ],
   "source": [
    "# 生成数据 \n",
    "# 1随机数生成数据\n",
    "import numpy as np \n",
    "# np.random.random\n",
    "np.random.seed(1)\n",
    "x1 = np.random.random(size=20)\n",
    "x2 = np.random.randn(20,2)\n",
    "x3 = np.random.randint(1,100,10)\n",
    "print(\"x1:\\n\",x1)\n",
    "print(\"x2:\\n\",x2)\n",
    "print(\"x3:\\n\",x3)"
   ]
  },
  {
   "cell_type": "code",
   "execution_count": 3,
   "metadata": {},
   "outputs": [
    {
     "name": "stdout",
     "output_type": "stream",
     "text": [
      "<generator object Tokenizer.cut at 0x105bcbeb8>\n"
     ]
    }
   ],
   "source": [
    "import jieba \n",
    "text = \"我来自中国，我非常喜欢这个世界\"\n",
    "list = jieba.cut(text)\n",
    "print(\"/\".join(list))"
   ]
  },
  {
   "cell_type": "code",
   "execution_count": null,
   "metadata": {},
   "outputs": [],
   "source": []
  }
 ],
 "metadata": {
  "kernelspec": {
   "display_name": "Python (base)",
   "language": "python",
   "name": "base"
  },
  "language_info": {
   "codemirror_mode": {
    "name": "ipython",
    "version": 3
   },
   "file_extension": ".py",
   "mimetype": "text/x-python",
   "name": "python",
   "nbconvert_exporter": "python",
   "pygments_lexer": "ipython3",
   "version": "3.6.4"
  }
 },
 "nbformat": 4,
 "nbformat_minor": 2
}
