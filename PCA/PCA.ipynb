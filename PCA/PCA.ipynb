{
 "cells": [
  {
   "cell_type": "code",
   "execution_count": 1,
   "metadata": {},
   "outputs": [],
   "source": [
    "import numpy as np"
   ]
  },
  {
   "cell_type": "code",
   "execution_count": null,
   "metadata": {},
   "outputs": [],
   "source": [
    "def zeroMean(dataMat):\n",
    "    meanData=np.mean(dataMat)\n",
    "    newData=dataMat-meanData\n",
    "    return newData,meanData"
   ]
  },
  {
   "cell_type": "code",
   "execution_count": null,
   "metadata": {},
   "outputs": [],
   "source": [
    "def percent2n(eigVal,percent):\n",
    "    sortArray=np.sort(eigVal)\n",
    "    sortArray=sortArray[-1::-1]\n",
    "    arraySum=sum(sortArray)\n",
    "    tmp=0\n",
    "    num=0\n",
    "    for i in sortArray:\n",
    "        tmp+=i\n",
    "        num+=1\n",
    "        if tmp>=arraySum*percent:\n",
    "            return num"
   ]
  },
  {
   "cell_type": "code",
   "execution_count": 11,
   "metadata": {},
   "outputs": [],
   "source": [
    "def pca(dataMat, perecent=0.99):\n",
    "    # 数据去中心化\n",
    "    newData,meanVal=zeroMean(dataMat)\n",
    "    # 求获得数据的协方差\n",
    "    covMat=np.cov(newData,rowvar=0)\n",
    "    # 求协方差矩阵的特征值和特征向量\n",
    "    eigVal,eigVects=np.linalg.eig(np.mat(covMat))\n",
    "    #要达到percent的方差百分比，需要前n个特征向量\n",
    "    n=percent2n(eigVal,percent)\n",
    "    #对特征值小到大排序\n",
    "    eigValIndice=np.argsorts(eigVal)\n",
    "    # 获得最大特征值的下标\n",
    "    n_eigValIndice=eigValIndice[-1:-(n+1):-1]\n",
    "    # 最大特征值下标对应的特征向量\n",
    "    n_eigVect=eigVects[:,n_eigValIndice]\n",
    "    # 低维空间的数据\n",
    "    loadDataMat=newData*n_eigVect\n",
    "    # 重构数据 \n",
    "    reconMat=(loadDataMat*n_eigVect.T)+meanVal\n",
    "    return loadDataMat,reconMat"
   ]
  },
  {
   "cell_type": "code",
   "execution_count": 8,
   "metadata": {},
   "outputs": [],
   "source": [
    "data=np.array([[1,2,3],[1,2,3],[1,2,3]])\n",
    "val,vects=np.linalg.eig(data)"
   ]
  },
  {
   "cell_type": "code",
   "execution_count": 9,
   "metadata": {},
   "outputs": [
    {
     "data": {
      "text/plain": [
       "array([6.00000000e+00+0.00000000e+00j, 4.01821701e-17+1.37141163e-16j,\n",
       "       4.01821701e-17-1.37141163e-16j])"
      ]
     },
     "execution_count": 9,
     "metadata": {},
     "output_type": "execute_result"
    }
   ],
   "source": [
    "val"
   ]
  },
  {
   "cell_type": "code",
   "execution_count": 10,
   "metadata": {},
   "outputs": [
    {
     "data": {
      "text/plain": [
       "array([[ 0.57735027+0.j        ,  0.90129205+0.j        ,\n",
       "         0.90129205-0.j        ],\n",
       "       [ 0.57735027+0.j        , -0.24811311-0.27328971j,\n",
       "        -0.24811311+0.27328971j],\n",
       "       [ 0.57735027+0.j        , -0.13502194+0.18219314j,\n",
       "        -0.13502194-0.18219314j]])"
      ]
     },
     "execution_count": 10,
     "metadata": {},
     "output_type": "execute_result"
    }
   ],
   "source": [
    "vects"
   ]
  },
  {
   "cell_type": "code",
   "execution_count": null,
   "metadata": {},
   "outputs": [],
   "source": []
  }
 ],
 "metadata": {
  "kernelspec": {
   "display_name": "Python (base)",
   "language": "python",
   "name": "base"
  },
  "language_info": {
   "codemirror_mode": {
    "name": "ipython",
    "version": 3
   },
   "file_extension": ".py",
   "mimetype": "text/x-python",
   "name": "python",
   "nbconvert_exporter": "python",
   "pygments_lexer": "ipython3",
   "version": "3.6.4"
  }
 },
 "nbformat": 4,
 "nbformat_minor": 2
}
